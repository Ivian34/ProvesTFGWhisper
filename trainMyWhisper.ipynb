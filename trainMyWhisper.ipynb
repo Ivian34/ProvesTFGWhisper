{
  "cells": [
    {
      "cell_type": "markdown",
      "metadata": {},
      "source": [
        "archivos tokados con prints modeling_whisper.py, utils.py"
      ]
    },
    {
      "cell_type": "code",
      "execution_count": 1,
      "metadata": {},
      "outputs": [],
      "source": [
        "from src.utils import *\n",
        "from functools import partial\n",
        "import numpy as np\n",
        "from transformers import WhisperProcessor\n",
        "from datasets import load_from_disk\n",
        "import torch"
      ]
    },
    {
      "cell_type": "markdown",
      "metadata": {},
      "source": [
        "### Creamos objeto de MyCustomTokenizer"
      ]
    },
    {
      "cell_type": "code",
      "execution_count": 2,
      "metadata": {},
      "outputs": [
        {
          "name": "stdout",
          "output_type": "stream",
          "text": [
            "['agafar', 'caixa']\n",
            "{'agafar': 0, 'llençar': 1, 'deixar': 2, 'caixa': 3, 'pilota': 4, '<|startoftranscript|>': 5, '<|endoftext|>': 6, '<|transcribe|>': 7, '<|ca|>': 8, '<|notimestamps|>': 9, '<|startofprev|>': 10}\n"
          ]
        }
      ],
      "source": [
        "model_id = \"openai/whisper-small\"\n",
        "language = \"ca\"\n",
        "task = \"transcribe\"\n",
        "\n",
        "processor = WhisperProcessor.from_pretrained(model_id, language=language, task=task)\n",
        "configs_path = f\"config-data\"\n",
        "myTokenizer = MyCustomTokenizer(vocab_file=f\"{configs_path}/ca-vocab.json\")\n",
        "\n",
        "print(myTokenizer.tokenize(\"agafar,caixa\"))\n",
        "\n",
        "print(myTokenizer.vocab)"
      ]
    },
    {
      "cell_type": "markdown",
      "metadata": {},
      "source": [
        "## Data"
      ]
    },
    {
      "cell_type": "markdown",
      "metadata": {},
      "source": [
        "### Data loading"
      ]
    },
    {
      "cell_type": "code",
      "execution_count": 3,
      "metadata": {},
      "outputs": [
        {
          "name": "stdout",
          "output_type": "stream",
          "text": [
            "DatasetDict({\n",
            "    train: Dataset({\n",
            "        features: ['audio_sentence', 'audio_rate', 'text_sentence', 'tags'],\n",
            "        num_rows: 900\n",
            "    })\n",
            "    test: Dataset({\n",
            "        features: ['audio_sentence', 'audio_rate', 'text_sentence', 'tags'],\n",
            "        num_rows: 100\n",
            "    })\n",
            "})\n",
            "deixar,caixa,deixar,pilota\n"
          ]
        }
      ],
      "source": [
        "dataset_dict = load_from_disk(\"Audios/dataset1\")\n",
        "print(dataset_dict)\n",
        "print(dataset_dict[\"train\"][0][\"tags\"])"
      ]
    },
    {
      "cell_type": "markdown",
      "metadata": {},
      "source": [
        "### Data preprocessing"
      ]
    },
    {
      "cell_type": "code",
      "execution_count": 4,
      "metadata": {},
      "outputs": [],
      "source": [
        "prepare_dataset_fn = partial(prepare_dataset, feature_extractor=processor.feature_extractor, myTokenizer=myTokenizer)\n",
        "\n",
        "dataset_dict_prepared = dataset_dict.map(prepare_dataset_fn, remove_columns=dataset_dict.column_names[\"train\"], num_proc=4)"
      ]
    },
    {
      "cell_type": "code",
      "execution_count": 5,
      "metadata": {},
      "outputs": [
        {
          "name": "stdout",
          "output_type": "stream",
          "text": [
            "DatasetDict({\n",
            "    train: Dataset({\n",
            "        features: ['input_features', 'labels'],\n",
            "        num_rows: 900\n",
            "    })\n",
            "    test: Dataset({\n",
            "        features: ['input_features', 'labels'],\n",
            "        num_rows: 100\n",
            "    })\n",
            "})\n",
            "[5, 8, 7, 9, 2, 3, 2, 4, 6]\n",
            "(80, 3000)\n",
            "<|startoftranscript|> <|ca|> <|transcribe|> <|notimestamps|> deixar caixa deixar pilota <|endoftext|>\n",
            "deixar caixa deixar pilota\n",
            "[5, 8, 7, 9, 2, 3, 0, 4, 6]\n",
            "(80, 3000)\n",
            "<|startoftranscript|> <|ca|> <|transcribe|> <|notimestamps|> deixar caixa agafar pilota <|endoftext|>\n",
            "deixar caixa agafar pilota\n"
          ]
        }
      ],
      "source": [
        "print(dataset_dict_prepared)\n",
        "print(dataset_dict_prepared[\"train\"][0][\"labels\"])\n",
        "print(np.array(dataset_dict_prepared[\"train\"][0][\"input_features\"]).shape)\n",
        "print(myTokenizer.decode(dataset_dict_prepared[\"train\"][0][\"labels\"]))\n",
        "print(myTokenizer.decode(dataset_dict_prepared[\"train\"][0][\"labels\"], skip_special_tokens=True))\n",
        "\n",
        "print(dataset_dict_prepared[\"test\"][0][\"labels\"])\n",
        "print(np.array(dataset_dict_prepared[\"test\"][0][\"input_features\"]).shape)\n",
        "print(myTokenizer.decode(dataset_dict_prepared[\"test\"][0][\"labels\"]))\n",
        "print(myTokenizer.decode(dataset_dict_prepared[\"test\"][0][\"labels\"], skip_special_tokens=True))"
      ]
    },
    {
      "cell_type": "markdown",
      "metadata": {},
      "source": [
        "### Data Collator"
      ]
    },
    {
      "cell_type": "code",
      "execution_count": 6,
      "metadata": {},
      "outputs": [
        {
          "name": "stdout",
          "output_type": "stream",
          "text": [
            "tensor([[   8,    7,    9,    2,    3,    2,    4,    6],\n",
            "        [   8,    7,    9,    2,    3,    1,    3,    6],\n",
            "        [   8,    7,    9,    2,    3,    2,    4,    6],\n",
            "        [   8,    7,    9,    2,    4,    0,    3,    6],\n",
            "        [   8,    7,    9,    1,    3,    6, -100, -100]])\n",
            "torch.Size([5, 80, 3000])\n"
          ]
        }
      ],
      "source": [
        "my_datacollator = MyDataCollator(feature_extractor=processor.feature_extractor, tokenizer=myTokenizer)\n",
        "\n",
        "aux = []\n",
        "for i in range(5):\n",
        "    aux.append(dataset_dict_prepared[\"train\"][i])\n",
        "batch = my_datacollator(aux)\n",
        "print(batch[\"labels\"])\n",
        "print(batch[\"input_features\"].shape)"
      ]
    },
    {
      "cell_type": "markdown",
      "metadata": {},
      "source": [
        "## Model"
      ]
    },
    {
      "cell_type": "markdown",
      "metadata": {},
      "source": [
        "### Loading model and changing configs for our vocabulary and switching embedding layer"
      ]
    },
    {
      "cell_type": "code",
      "execution_count": 7,
      "metadata": {},
      "outputs": [
        {
          "name": "stdout",
          "output_type": "stream",
          "text": [
            "embeding tokens layer and projection layer share the same weights: True\n",
            "shape of embedding tokens layer:  torch.Size([11, 768])\n",
            "changing model's config vocab_size: 11\n"
          ]
        }
      ],
      "source": [
        "model = create_my_whisper_model(myTokenizer=myTokenizer)"
      ]
    },
    {
      "cell_type": "markdown",
      "metadata": {},
      "source": [
        "## Training"
      ]
    },
    {
      "cell_type": "markdown",
      "metadata": {},
      "source": [
        "### Metrics"
      ]
    },
    {
      "cell_type": "code",
      "execution_count": 8,
      "metadata": {},
      "outputs": [],
      "source": [
        "\n",
        "compute_metrics_fn = partial(\n",
        "    compute_metrics,\n",
        "    model=model,\n",
        "    myTokenizer=myTokenizer,\n",
        ")\n"
      ]
    },
    {
      "cell_type": "markdown",
      "metadata": {},
      "source": [
        "### Setting Arguments and initializing trainer"
      ]
    },
    {
      "cell_type": "code",
      "execution_count": 9,
      "metadata": {},
      "outputs": [],
      "source": [
        "from transformers import Seq2SeqTrainingArguments\n",
        "\n",
        "training_args = Seq2SeqTrainingArguments(\n",
        "    output_dir=\"whisper-small-ca\",  \n",
        "    per_device_train_batch_size=16,\n",
        "    gradient_accumulation_steps=1,  # aumenta de 2x por cada 2x de disminución en el batch size\n",
        "    learning_rate=1e-4,\n",
        "    warmup_steps=100,\n",
        "    num_train_epochs=6,             # Entrenamiento durante x epochs\n",
        "    #gradient_checkpointing=True,\n",
        "    fp16=True,\n",
        "    eval_strategy=\"epoch\",     # Evalúa al final de cada epoch\n",
        "    per_device_eval_batch_size=8,\n",
        "    predict_with_generate=True,\n",
        "    logging_steps=25,\n",
        "    report_to=[\"tensorboard\"],\n",
        "    metric_for_best_model=\"wer\",\n",
        "    greater_is_better=False,\n",
        "    save_strategy=\"no\",  \n",
        "    save_steps=None  \n",
        ")\n"
      ]
    },
    {
      "cell_type": "code",
      "execution_count": 10,
      "metadata": {},
      "outputs": [],
      "source": [
        "from transformers import Seq2SeqTrainer\n",
        "\n",
        "trainer = Seq2SeqTrainer(\n",
        "    args=training_args,\n",
        "    model=model,\n",
        "    train_dataset=dataset_dict_prepared[\"train\"],\n",
        "    eval_dataset=dataset_dict_prepared[\"test\"],\n",
        "    data_collator=my_datacollator,\n",
        "    compute_metrics=compute_metrics_fn,\n",
        "    processing_class=myTokenizer,\n",
        ")"
      ]
    },
    {
      "cell_type": "markdown",
      "metadata": {},
      "source": [
        "### Training"
      ]
    },
    {
      "cell_type": "code",
      "execution_count": 11,
      "metadata": {},
      "outputs": [
        {
          "name": "stderr",
          "output_type": "stream",
          "text": [
            "Passing a tuple of `past_key_values` is deprecated and will be removed in Transformers v4.43.0. You should pass an instance of `EncoderDecoderCache` instead, e.g. `past_key_values=EncoderDecoderCache.from_legacy_cache(past_key_values)`.\n"
          ]
        },
        {
          "data": {
            "text/html": [
              "\n",
              "    <div>\n",
              "      \n",
              "      <progress value='342' max='342' style='width:300px; height:20px; vertical-align: middle;'></progress>\n",
              "      [342/342 1:42:27, Epoch 6/6]\n",
              "    </div>\n",
              "    <table border=\"1\" class=\"dataframe\">\n",
              "  <thead>\n",
              " <tr style=\"text-align: left;\">\n",
              "      <th>Epoch</th>\n",
              "      <th>Training Loss</th>\n",
              "      <th>Validation Loss</th>\n",
              "      <th>Wer</th>\n",
              "    </tr>\n",
              "  </thead>\n",
              "  <tbody>\n",
              "    <tr>\n",
              "      <td>1</td>\n",
              "      <td>0.240200</td>\n",
              "      <td>0.114012</td>\n",
              "      <td>10.928962</td>\n",
              "    </tr>\n",
              "    <tr>\n",
              "      <td>2</td>\n",
              "      <td>0.071300</td>\n",
              "      <td>0.097227</td>\n",
              "      <td>2.732240</td>\n",
              "    </tr>\n",
              "    <tr>\n",
              "      <td>3</td>\n",
              "      <td>0.023700</td>\n",
              "      <td>0.005385</td>\n",
              "      <td>0.819672</td>\n",
              "    </tr>\n",
              "    <tr>\n",
              "      <td>4</td>\n",
              "      <td>0.001400</td>\n",
              "      <td>0.009207</td>\n",
              "      <td>0.546448</td>\n",
              "    </tr>\n",
              "    <tr>\n",
              "      <td>5</td>\n",
              "      <td>0.000000</td>\n",
              "      <td>0.000539</td>\n",
              "      <td>0.000000</td>\n",
              "    </tr>\n",
              "    <tr>\n",
              "      <td>6</td>\n",
              "      <td>0.000000</td>\n",
              "      <td>0.000534</td>\n",
              "      <td>0.000000</td>\n",
              "    </tr>\n",
              "  </tbody>\n",
              "</table><p>"
            ],
            "text/plain": [
              "<IPython.core.display.HTML object>"
            ]
          },
          "metadata": {},
          "output_type": "display_data"
        },
        {
          "name": "stdout",
          "output_type": "stream",
          "text": [
            "predicted:  ['deixar caixa agafar pilota', 'llençar pilota deixar pilota', 'deixar caixa', 'llençar caixa llençar pilota', 'llençar caixa deixar pilota', 'deixar pilota', 'llençar caixa agafar pilota', 'deixar pilota', 'llençar caixa agafar pilota', 'llençar pilota agafar caixa', 'deixar caixa', 'llençar pilota agafar caixa', 'llençar pilota llençar caixa', 'deixar pilota', 'deixar caixa agafar caixa', 'agafar caixa deixar pilota', 'agafar caixa', 'llençar caixa agafar pilota', 'llençar caixa agafar pilota', 'agafar caixa llençar pilota', 'deixar pilota', 'deixar caixa agafar pilota', 'agafar pilota', 'agafar pilota llençar pilota', 'agafar pilota agafar caixa', 'llençar caixa', 'llençar pilota deixar caixa', 'deixar pilota llençar caixa', 'deixar pilota', 'agafar pilota deixar caixa', 'agafar caixa', 'agafar pilota', 'llençar caixa agafar pilota', 'deixar caixa agafar pilota', 'deixar caixa llençar pilota', 'deixar pilota deixar pilota', 'llençar pilota deixar pilota', 'agafar caixa deixar pilota', 'deixar caixa llençar caixa', 'deixar caixa', 'agafar pilota agafar caixa', 'llençar caixa agafar pilota', 'agafar pilota', 'deixar caixa agafar pilota', 'llençar pilota llençar caixa', 'agafar pilota deixar caixa', 'deixar caixa agafar pilota', 'deixar caixa', 'agafar caixa', 'llençar caixa', 'llençar pilota', 'llençar pilota llençar caixa', 'deixar caixa', 'agafar caixa agafar pilota', 'deixar caixa', 'llençar pilota deixar caixa', 'llençar caixa', 'llençar caixa llençar pilota', 'llençar pilota deixar caixa', 'llençar pilota', 'deixar caixa', 'agafar pilota', 'llençar pilota agafar caixa', 'llençar caixa', 'agafar caixa deixar pilota', 'agafar pilota llençar caixa', 'agafar pilota deixar caixa', 'deixar pilota', 'deixar caixa llençar pilota', 'llençar caixa deixar pilota', 'agafar pilota llençar caixa', 'llençar caixa', 'llençar pilota deixar caixa', 'agafar pilota deixar caixa', 'agafar caixa', 'deixar pilota llençar caixa', 'deixar pilota', 'deixar pilota agafar pilota', 'deixar caixa agafar caixa', 'agafar caixa llençar pilota', 'agafar pilota llençar caixa', 'deixar pilota agafar pilota', 'deixar caixa llençar pilota', 'deixar caixa agafar pilota', 'deixar pilota agafar caixa', 'llençar pilota deixar caixa', 'agafar caixa deixar pilota', 'deixar pilota', 'agafar pilota', 'deixar pilota deixar caixa', 'llençar caixa', 'deixar caixa llençar caixa', 'agafar caixa llençar pilota', 'deixar caixa agafar caixa', 'deixar pilota', 'agafar pilota', 'agafar pilota', 'deixar caixa agafar caixa', 'llençar pilota llençar caixa', 'llençar caixa deixar pilota']\n",
            "labels:  ['deixar caixa agafar pilota', 'llençar pilota deixar pilota', 'deixar caixa', 'llençar caixa llençar pilota', 'llençar caixa deixar pilota', 'deixar pilota', 'llençar caixa agafar pilota', 'deixar pilota llençar caixa', 'llençar caixa agafar pilota', 'llençar pilota agafar caixa', 'deixar caixa agafar caixa', 'llençar pilota agafar caixa', 'llençar pilota llençar caixa', 'deixar pilota', 'deixar caixa agafar caixa', 'agafar caixa deixar pilota', 'agafar caixa', 'llençar caixa agafar pilota', 'llençar caixa agafar pilota', 'agafar caixa llençar pilota', 'deixar pilota agafar caixa', 'deixar caixa agafar pilota', 'agafar pilota llençar caixa', 'agafar pilota llençar pilota', 'agafar pilota agafar caixa', 'llençar caixa', 'llençar pilota deixar caixa', 'deixar pilota llençar caixa', 'deixar pilota', 'agafar pilota deixar pilota', 'agafar caixa', 'agafar pilota llençar pilota', 'llençar caixa agafar pilota', 'deixar caixa agafar pilota', 'deixar caixa llençar pilota', 'llençar pilota deixar pilota', 'llençar pilota deixar pilota', 'agafar caixa deixar pilota', 'deixar caixa llençar caixa', 'deixar pilota llençar caixa', 'agafar pilota agafar caixa', 'llençar caixa agafar pilota', 'agafar pilota deixar caixa', 'deixar caixa agafar pilota', 'llençar pilota llençar caixa', 'agafar pilota deixar caixa', 'deixar caixa agafar pilota', 'deixar caixa llençar caixa', 'agafar caixa llençar caixa', 'llençar caixa', 'llençar pilota agafar pilota', 'llençar pilota llençar caixa', 'deixar caixa agafar pilota', 'agafar caixa agafar pilota', 'deixar caixa', 'llençar pilota deixar caixa', 'llençar caixa deixar caixa', 'llençar caixa llençar pilota', 'llençar pilota deixar caixa', 'llençar pilota deixar caixa', 'deixar caixa llençar caixa', 'agafar pilota', 'llençar pilota agafar caixa', 'llençar caixa', 'agafar caixa deixar pilota', 'agafar pilota llençar caixa', 'agafar pilota deixar caixa', 'deixar pilota', 'deixar caixa llençar pilota', 'llençar caixa deixar pilota', 'agafar pilota llençar caixa', 'llençar caixa', 'llençar pilota deixar caixa', 'agafar pilota deixar caixa', 'agafar caixa llençar caixa', 'deixar pilota llençar caixa', 'deixar pilota llençar caixa', 'deixar pilota agafar pilota', 'deixar caixa agafar caixa', 'agafar caixa llençar pilota', 'agafar pilota llençar caixa', 'deixar pilota agafar pilota', 'agafar caixa llençar pilota', 'deixar caixa agafar pilota', 'deixar pilota agafar caixa', 'llençar pilota deixar caixa', 'agafar caixa deixar pilota', 'deixar pilota llençar caixa', 'agafar pilota agafar caixa', 'deixar pilota agafar caixa', 'llençar caixa', 'deixar caixa llençar caixa', 'agafar caixa llençar pilota', 'deixar caixa agafar caixa', 'deixar pilota', 'agafar pilota', 'agafar pilota', 'deixar caixa agafar caixa', 'llençar pilota llençar caixa', 'llençar caixa deixar pilota']\n",
            "wer in %:  10.92896174863388\n",
            "predicted:  ['deixar caixa agafar pilota', 'llençar pilota deixar pilota', 'deixar caixa deixar caixa', 'llençar caixa llençar pilota', 'llençar caixa deixar pilota', 'deixar pilota', 'llençar caixa agafar pilota', 'deixar pilota llençar caixa', 'llençar caixa agafar pilota', 'llençar pilota agafar caixa', 'deixar caixa agafar caixa', 'llençar pilota agafar caixa', 'llençar pilota llençar caixa', 'deixar pilota', 'deixar caixa agafar caixa', 'agafar caixa deixar pilota', 'agafar caixa', 'llençar caixa agafar pilota', 'llençar caixa agafar pilota', 'agafar caixa llençar pilota', 'deixar pilota deixar caixa', 'deixar caixa agafar pilota', 'agafar pilota llençar caixa', 'agafar pilota llençar pilota', 'agafar pilota agafar caixa', 'llençar caixa', 'llençar pilota deixar caixa', 'deixar pilota llençar caixa', 'deixar pilota deixar pilota', 'agafar pilota deixar pilota', 'agafar caixa', 'agafar pilota llençar pilota', 'llençar caixa agafar pilota', 'deixar caixa agafar pilota', 'deixar caixa llençar pilota', 'llençar pilota deixar pilota', 'llençar pilota deixar pilota', 'agafar caixa deixar pilota', 'deixar caixa llençar caixa', 'deixar pilota llençar caixa', 'agafar pilota agafar caixa', 'llençar caixa agafar pilota', 'agafar pilota deixar caixa', 'deixar caixa agafar caixa', 'llençar pilota llençar caixa', 'agafar pilota deixar caixa', 'deixar caixa agafar pilota', 'deixar caixa llençar caixa', 'agafar caixa llençar caixa', 'llençar caixa', 'llençar pilota agafar pilota', 'llençar pilota llençar caixa', 'deixar caixa agafar pilota', 'agafar caixa agafar pilota', 'deixar caixa', 'llençar pilota deixar caixa', 'llençar caixa deixar caixa', 'llençar caixa llençar pilota', 'llençar pilota deixar caixa', 'llençar pilota deixar caixa', 'deixar caixa llençar caixa', 'agafar pilota deixar pilota', 'llençar pilota agafar caixa', 'llençar caixa deixar caixa', 'agafar caixa deixar pilota', 'agafar pilota llençar caixa', 'agafar pilota deixar caixa', 'deixar pilota', 'deixar caixa llençar pilota', 'llençar caixa deixar pilota', 'agafar pilota llençar caixa', 'llençar caixa', 'llençar pilota deixar caixa', 'agafar pilota deixar caixa', 'agafar caixa llençar caixa', 'deixar pilota llençar caixa', 'deixar pilota llençar caixa', 'deixar pilota agafar pilota', 'deixar caixa agafar caixa', 'agafar caixa llençar pilota', 'agafar pilota llençar caixa', 'deixar pilota agafar pilota', 'agafar caixa llençar pilota', 'deixar caixa agafar pilota', 'deixar pilota agafar caixa', 'llençar pilota deixar caixa', 'agafar caixa deixar pilota', 'deixar pilota llençar caixa', 'agafar pilota agafar caixa', 'deixar pilota agafar caixa', 'llençar caixa', 'deixar caixa llençar caixa', 'agafar caixa llençar pilota', 'deixar caixa agafar caixa', 'deixar pilota', 'agafar pilota', 'agafar pilota', 'deixar caixa agafar caixa', 'llençar pilota llençar caixa', 'llençar caixa deixar pilota']\n",
            "labels:  ['deixar caixa agafar pilota', 'llençar pilota deixar pilota', 'deixar caixa', 'llençar caixa llençar pilota', 'llençar caixa deixar pilota', 'deixar pilota', 'llençar caixa agafar pilota', 'deixar pilota llençar caixa', 'llençar caixa agafar pilota', 'llençar pilota agafar caixa', 'deixar caixa agafar caixa', 'llençar pilota agafar caixa', 'llençar pilota llençar caixa', 'deixar pilota', 'deixar caixa agafar caixa', 'agafar caixa deixar pilota', 'agafar caixa', 'llençar caixa agafar pilota', 'llençar caixa agafar pilota', 'agafar caixa llençar pilota', 'deixar pilota agafar caixa', 'deixar caixa agafar pilota', 'agafar pilota llençar caixa', 'agafar pilota llençar pilota', 'agafar pilota agafar caixa', 'llençar caixa', 'llençar pilota deixar caixa', 'deixar pilota llençar caixa', 'deixar pilota', 'agafar pilota deixar pilota', 'agafar caixa', 'agafar pilota llençar pilota', 'llençar caixa agafar pilota', 'deixar caixa agafar pilota', 'deixar caixa llençar pilota', 'llençar pilota deixar pilota', 'llençar pilota deixar pilota', 'agafar caixa deixar pilota', 'deixar caixa llençar caixa', 'deixar pilota llençar caixa', 'agafar pilota agafar caixa', 'llençar caixa agafar pilota', 'agafar pilota deixar caixa', 'deixar caixa agafar pilota', 'llençar pilota llençar caixa', 'agafar pilota deixar caixa', 'deixar caixa agafar pilota', 'deixar caixa llençar caixa', 'agafar caixa llençar caixa', 'llençar caixa', 'llençar pilota agafar pilota', 'llençar pilota llençar caixa', 'deixar caixa agafar pilota', 'agafar caixa agafar pilota', 'deixar caixa', 'llençar pilota deixar caixa', 'llençar caixa deixar caixa', 'llençar caixa llençar pilota', 'llençar pilota deixar caixa', 'llençar pilota deixar caixa', 'deixar caixa llençar caixa', 'agafar pilota', 'llençar pilota agafar caixa', 'llençar caixa', 'agafar caixa deixar pilota', 'agafar pilota llençar caixa', 'agafar pilota deixar caixa', 'deixar pilota', 'deixar caixa llençar pilota', 'llençar caixa deixar pilota', 'agafar pilota llençar caixa', 'llençar caixa', 'llençar pilota deixar caixa', 'agafar pilota deixar caixa', 'agafar caixa llençar caixa', 'deixar pilota llençar caixa', 'deixar pilota llençar caixa', 'deixar pilota agafar pilota', 'deixar caixa agafar caixa', 'agafar caixa llençar pilota', 'agafar pilota llençar caixa', 'deixar pilota agafar pilota', 'agafar caixa llençar pilota', 'deixar caixa agafar pilota', 'deixar pilota agafar caixa', 'llençar pilota deixar caixa', 'agafar caixa deixar pilota', 'deixar pilota llençar caixa', 'agafar pilota agafar caixa', 'deixar pilota agafar caixa', 'llençar caixa', 'deixar caixa llençar caixa', 'agafar caixa llençar pilota', 'deixar caixa agafar caixa', 'deixar pilota', 'agafar pilota', 'agafar pilota', 'deixar caixa agafar caixa', 'llençar pilota llençar caixa', 'llençar caixa deixar pilota']\n",
            "wer in %:  2.73224043715847\n",
            "predicted:  ['deixar caixa agafar pilota', 'llençar pilota deixar pilota', 'deixar caixa', 'llençar caixa llençar pilota', 'llençar caixa deixar pilota', 'deixar pilota', 'llençar caixa agafar pilota', 'deixar pilota llençar caixa', 'llençar caixa agafar pilota', 'llençar pilota agafar caixa', 'deixar caixa agafar caixa', 'llençar pilota agafar caixa', 'llençar pilota llençar caixa', 'deixar pilota', 'deixar caixa agafar caixa', 'agafar caixa deixar pilota', 'agafar caixa', 'llençar caixa agafar pilota', 'llençar caixa agafar pilota', 'agafar caixa llençar pilota', 'deixar pilota deixar caixa', 'deixar caixa agafar pilota', 'agafar pilota llençar caixa', 'agafar pilota llençar pilota', 'agafar pilota agafar caixa', 'llençar caixa', 'llençar pilota deixar caixa', 'deixar pilota llençar caixa', 'deixar pilota', 'agafar pilota deixar pilota', 'agafar caixa', 'agafar pilota llençar pilota', 'llençar caixa agafar pilota', 'deixar caixa agafar pilota', 'deixar caixa llençar pilota', 'llençar pilota deixar pilota', 'llençar pilota deixar pilota', 'agafar caixa deixar pilota', 'deixar caixa llençar caixa', 'deixar pilota llençar caixa', 'agafar pilota agafar caixa', 'llençar caixa agafar pilota', 'agafar pilota deixar caixa', 'deixar caixa agafar pilota', 'llençar pilota llençar caixa', 'agafar pilota deixar caixa', 'deixar caixa agafar pilota', 'deixar caixa llençar caixa', 'agafar caixa llençar caixa', 'llençar caixa', 'llençar pilota agafar pilota', 'llençar pilota llençar caixa', 'deixar caixa agafar pilota', 'agafar caixa agafar pilota', 'deixar caixa', 'llençar pilota deixar caixa', 'llençar caixa deixar caixa', 'llençar caixa llençar pilota', 'llençar pilota deixar caixa', 'llençar pilota deixar caixa', 'deixar caixa llençar caixa', 'agafar pilota', 'llençar pilota agafar caixa', 'llençar caixa', 'agafar caixa deixar pilota', 'agafar pilota llençar caixa', 'agafar pilota deixar caixa', 'deixar pilota', 'deixar caixa llençar pilota', 'llençar caixa deixar pilota', 'agafar pilota llençar caixa', 'llençar caixa', 'llençar pilota deixar caixa', 'agafar pilota deixar caixa', 'agafar caixa llençar caixa', 'deixar pilota llençar caixa', 'deixar pilota llençar caixa', 'deixar pilota', 'deixar caixa agafar caixa', 'agafar caixa llençar pilota', 'agafar pilota llençar caixa', 'deixar pilota agafar pilota', 'agafar caixa llençar pilota', 'deixar caixa agafar pilota', 'deixar pilota agafar caixa', 'llençar pilota deixar caixa', 'agafar caixa deixar pilota', 'deixar pilota llençar caixa', 'agafar pilota agafar caixa', 'deixar pilota agafar caixa', 'llençar caixa', 'deixar caixa llençar caixa', 'agafar caixa llençar pilota', 'deixar caixa agafar caixa', 'deixar pilota', 'agafar pilota', 'agafar pilota', 'deixar caixa agafar caixa', 'llençar pilota llençar caixa', 'llençar caixa deixar pilota']\n",
            "labels:  ['deixar caixa agafar pilota', 'llençar pilota deixar pilota', 'deixar caixa', 'llençar caixa llençar pilota', 'llençar caixa deixar pilota', 'deixar pilota', 'llençar caixa agafar pilota', 'deixar pilota llençar caixa', 'llençar caixa agafar pilota', 'llençar pilota agafar caixa', 'deixar caixa agafar caixa', 'llençar pilota agafar caixa', 'llençar pilota llençar caixa', 'deixar pilota', 'deixar caixa agafar caixa', 'agafar caixa deixar pilota', 'agafar caixa', 'llençar caixa agafar pilota', 'llençar caixa agafar pilota', 'agafar caixa llençar pilota', 'deixar pilota agafar caixa', 'deixar caixa agafar pilota', 'agafar pilota llençar caixa', 'agafar pilota llençar pilota', 'agafar pilota agafar caixa', 'llençar caixa', 'llençar pilota deixar caixa', 'deixar pilota llençar caixa', 'deixar pilota', 'agafar pilota deixar pilota', 'agafar caixa', 'agafar pilota llençar pilota', 'llençar caixa agafar pilota', 'deixar caixa agafar pilota', 'deixar caixa llençar pilota', 'llençar pilota deixar pilota', 'llençar pilota deixar pilota', 'agafar caixa deixar pilota', 'deixar caixa llençar caixa', 'deixar pilota llençar caixa', 'agafar pilota agafar caixa', 'llençar caixa agafar pilota', 'agafar pilota deixar caixa', 'deixar caixa agafar pilota', 'llençar pilota llençar caixa', 'agafar pilota deixar caixa', 'deixar caixa agafar pilota', 'deixar caixa llençar caixa', 'agafar caixa llençar caixa', 'llençar caixa', 'llençar pilota agafar pilota', 'llençar pilota llençar caixa', 'deixar caixa agafar pilota', 'agafar caixa agafar pilota', 'deixar caixa', 'llençar pilota deixar caixa', 'llençar caixa deixar caixa', 'llençar caixa llençar pilota', 'llençar pilota deixar caixa', 'llençar pilota deixar caixa', 'deixar caixa llençar caixa', 'agafar pilota', 'llençar pilota agafar caixa', 'llençar caixa', 'agafar caixa deixar pilota', 'agafar pilota llençar caixa', 'agafar pilota deixar caixa', 'deixar pilota', 'deixar caixa llençar pilota', 'llençar caixa deixar pilota', 'agafar pilota llençar caixa', 'llençar caixa', 'llençar pilota deixar caixa', 'agafar pilota deixar caixa', 'agafar caixa llençar caixa', 'deixar pilota llençar caixa', 'deixar pilota llençar caixa', 'deixar pilota agafar pilota', 'deixar caixa agafar caixa', 'agafar caixa llençar pilota', 'agafar pilota llençar caixa', 'deixar pilota agafar pilota', 'agafar caixa llençar pilota', 'deixar caixa agafar pilota', 'deixar pilota agafar caixa', 'llençar pilota deixar caixa', 'agafar caixa deixar pilota', 'deixar pilota llençar caixa', 'agafar pilota agafar caixa', 'deixar pilota agafar caixa', 'llençar caixa', 'deixar caixa llençar caixa', 'agafar caixa llençar pilota', 'deixar caixa agafar caixa', 'deixar pilota', 'agafar pilota', 'agafar pilota', 'deixar caixa agafar caixa', 'llençar pilota llençar caixa', 'llençar caixa deixar pilota']\n",
            "wer in %:  0.819672131147541\n",
            "predicted:  ['deixar caixa agafar pilota', 'llençar pilota deixar pilota', 'deixar caixa', 'llençar caixa llençar pilota', 'llençar caixa deixar pilota', 'deixar pilota', 'llençar caixa agafar pilota', 'deixar pilota llençar caixa', 'llençar caixa agafar pilota', 'llençar pilota agafar caixa', 'deixar caixa agafar caixa', 'llençar pilota agafar caixa', 'llençar pilota llençar caixa', 'deixar pilota', 'deixar caixa agafar caixa', 'agafar caixa deixar pilota', 'agafar caixa', 'llençar caixa agafar pilota', 'llençar caixa agafar pilota', 'agafar caixa llençar pilota', 'deixar pilota agafar caixa', 'deixar caixa agafar pilota', 'agafar pilota llençar caixa', 'agafar pilota llençar pilota', 'agafar pilota agafar caixa', 'llençar caixa', 'llençar pilota deixar caixa', 'deixar pilota llençar caixa', 'deixar pilota', 'agafar pilota deixar pilota', 'agafar caixa', 'agafar pilota llençar pilota', 'llençar caixa agafar pilota', 'deixar caixa agafar pilota', 'deixar caixa llençar pilota', 'llençar pilota deixar pilota', 'llençar pilota deixar pilota', 'agafar caixa deixar pilota', 'deixar caixa llençar caixa', 'deixar pilota llençar caixa', 'agafar pilota agafar caixa', 'llençar caixa agafar pilota', 'agafar pilota deixar caixa', 'deixar caixa agafar pilota', 'llençar pilota llençar caixa', 'agafar pilota deixar caixa', 'deixar caixa agafar pilota', 'deixar caixa llençar caixa', 'agafar caixa llençar caixa', 'llençar caixa', 'llençar pilota agafar pilota', 'llençar pilota llençar caixa', 'deixar caixa agafar pilota', 'agafar caixa agafar pilota', 'deixar caixa', 'llençar pilota deixar caixa', 'llençar caixa deixar caixa', 'llençar caixa llençar pilota', 'llençar pilota deixar caixa', 'llençar pilota deixar caixa', 'deixar caixa llençar caixa', 'agafar pilota', 'llençar pilota agafar caixa', 'llençar caixa', 'agafar caixa deixar pilota', 'agafar pilota llençar caixa', 'agafar pilota deixar caixa', 'deixar pilota', 'deixar caixa llençar pilota', 'llençar caixa deixar pilota', 'agafar pilota llençar caixa', 'llençar caixa', 'llençar pilota deixar caixa', 'agafar pilota deixar caixa', 'agafar caixa llençar caixa', 'agafar pilota llençar caixa', 'deixar pilota llençar caixa', 'deixar pilota agafar pilota', 'deixar caixa agafar caixa', 'agafar caixa llençar pilota', 'agafar pilota llençar caixa', 'deixar pilota agafar pilota', 'agafar caixa llençar pilota', 'deixar caixa agafar pilota', 'deixar pilota agafar caixa', 'llençar pilota deixar caixa', 'agafar caixa deixar pilota', 'deixar pilota llençar caixa', 'agafar pilota agafar caixa', 'deixar pilota agafar caixa', 'llençar caixa', 'deixar caixa agafar caixa', 'agafar caixa llençar pilota', 'deixar caixa agafar caixa', 'deixar pilota', 'agafar pilota', 'agafar pilota', 'deixar caixa agafar caixa', 'llençar pilota llençar caixa', 'llençar caixa deixar pilota']\n",
            "labels:  ['deixar caixa agafar pilota', 'llençar pilota deixar pilota', 'deixar caixa', 'llençar caixa llençar pilota', 'llençar caixa deixar pilota', 'deixar pilota', 'llençar caixa agafar pilota', 'deixar pilota llençar caixa', 'llençar caixa agafar pilota', 'llençar pilota agafar caixa', 'deixar caixa agafar caixa', 'llençar pilota agafar caixa', 'llençar pilota llençar caixa', 'deixar pilota', 'deixar caixa agafar caixa', 'agafar caixa deixar pilota', 'agafar caixa', 'llençar caixa agafar pilota', 'llençar caixa agafar pilota', 'agafar caixa llençar pilota', 'deixar pilota agafar caixa', 'deixar caixa agafar pilota', 'agafar pilota llençar caixa', 'agafar pilota llençar pilota', 'agafar pilota agafar caixa', 'llençar caixa', 'llençar pilota deixar caixa', 'deixar pilota llençar caixa', 'deixar pilota', 'agafar pilota deixar pilota', 'agafar caixa', 'agafar pilota llençar pilota', 'llençar caixa agafar pilota', 'deixar caixa agafar pilota', 'deixar caixa llençar pilota', 'llençar pilota deixar pilota', 'llençar pilota deixar pilota', 'agafar caixa deixar pilota', 'deixar caixa llençar caixa', 'deixar pilota llençar caixa', 'agafar pilota agafar caixa', 'llençar caixa agafar pilota', 'agafar pilota deixar caixa', 'deixar caixa agafar pilota', 'llençar pilota llençar caixa', 'agafar pilota deixar caixa', 'deixar caixa agafar pilota', 'deixar caixa llençar caixa', 'agafar caixa llençar caixa', 'llençar caixa', 'llençar pilota agafar pilota', 'llençar pilota llençar caixa', 'deixar caixa agafar pilota', 'agafar caixa agafar pilota', 'deixar caixa', 'llençar pilota deixar caixa', 'llençar caixa deixar caixa', 'llençar caixa llençar pilota', 'llençar pilota deixar caixa', 'llençar pilota deixar caixa', 'deixar caixa llençar caixa', 'agafar pilota', 'llençar pilota agafar caixa', 'llençar caixa', 'agafar caixa deixar pilota', 'agafar pilota llençar caixa', 'agafar pilota deixar caixa', 'deixar pilota', 'deixar caixa llençar pilota', 'llençar caixa deixar pilota', 'agafar pilota llençar caixa', 'llençar caixa', 'llençar pilota deixar caixa', 'agafar pilota deixar caixa', 'agafar caixa llençar caixa', 'deixar pilota llençar caixa', 'deixar pilota llençar caixa', 'deixar pilota agafar pilota', 'deixar caixa agafar caixa', 'agafar caixa llençar pilota', 'agafar pilota llençar caixa', 'deixar pilota agafar pilota', 'agafar caixa llençar pilota', 'deixar caixa agafar pilota', 'deixar pilota agafar caixa', 'llençar pilota deixar caixa', 'agafar caixa deixar pilota', 'deixar pilota llençar caixa', 'agafar pilota agafar caixa', 'deixar pilota agafar caixa', 'llençar caixa', 'deixar caixa llençar caixa', 'agafar caixa llençar pilota', 'deixar caixa agafar caixa', 'deixar pilota', 'agafar pilota', 'agafar pilota', 'deixar caixa agafar caixa', 'llençar pilota llençar caixa', 'llençar caixa deixar pilota']\n",
            "wer in %:  0.546448087431694\n",
            "predicted:  ['deixar caixa agafar pilota', 'llençar pilota deixar pilota', 'deixar caixa', 'llençar caixa llençar pilota', 'llençar caixa deixar pilota', 'deixar pilota', 'llençar caixa agafar pilota', 'deixar pilota llençar caixa', 'llençar caixa agafar pilota', 'llençar pilota agafar caixa', 'deixar caixa agafar caixa', 'llençar pilota agafar caixa', 'llençar pilota llençar caixa', 'deixar pilota', 'deixar caixa agafar caixa', 'agafar caixa deixar pilota', 'agafar caixa', 'llençar caixa agafar pilota', 'llençar caixa agafar pilota', 'agafar caixa llençar pilota', 'deixar pilota agafar caixa', 'deixar caixa agafar pilota', 'agafar pilota llençar caixa', 'agafar pilota llençar pilota', 'agafar pilota agafar caixa', 'llençar caixa', 'llençar pilota deixar caixa', 'deixar pilota llençar caixa', 'deixar pilota', 'agafar pilota deixar pilota', 'agafar caixa', 'agafar pilota llençar pilota', 'llençar caixa agafar pilota', 'deixar caixa agafar pilota', 'deixar caixa llençar pilota', 'llençar pilota deixar pilota', 'llençar pilota deixar pilota', 'agafar caixa deixar pilota', 'deixar caixa llençar caixa', 'deixar pilota llençar caixa', 'agafar pilota agafar caixa', 'llençar caixa agafar pilota', 'agafar pilota deixar caixa', 'deixar caixa agafar pilota', 'llençar pilota llençar caixa', 'agafar pilota deixar caixa', 'deixar caixa agafar pilota', 'deixar caixa llençar caixa', 'agafar caixa llençar caixa', 'llençar caixa', 'llençar pilota agafar pilota', 'llençar pilota llençar caixa', 'deixar caixa agafar pilota', 'agafar caixa agafar pilota', 'deixar caixa', 'llençar pilota deixar caixa', 'llençar caixa deixar caixa', 'llençar caixa llençar pilota', 'llençar pilota deixar caixa', 'llençar pilota deixar caixa', 'deixar caixa llençar caixa', 'agafar pilota', 'llençar pilota agafar caixa', 'llençar caixa', 'agafar caixa deixar pilota', 'agafar pilota llençar caixa', 'agafar pilota deixar caixa', 'deixar pilota', 'deixar caixa llençar pilota', 'llençar caixa deixar pilota', 'agafar pilota llençar caixa', 'llençar caixa', 'llençar pilota deixar caixa', 'agafar pilota deixar caixa', 'agafar caixa llençar caixa', 'deixar pilota llençar caixa', 'deixar pilota llençar caixa', 'deixar pilota agafar pilota', 'deixar caixa agafar caixa', 'agafar caixa llençar pilota', 'agafar pilota llençar caixa', 'deixar pilota agafar pilota', 'agafar caixa llençar pilota', 'deixar caixa agafar pilota', 'deixar pilota agafar caixa', 'llençar pilota deixar caixa', 'agafar caixa deixar pilota', 'deixar pilota llençar caixa', 'agafar pilota agafar caixa', 'deixar pilota agafar caixa', 'llençar caixa', 'deixar caixa llençar caixa', 'agafar caixa llençar pilota', 'deixar caixa agafar caixa', 'deixar pilota', 'agafar pilota', 'agafar pilota', 'deixar caixa agafar caixa', 'llençar pilota llençar caixa', 'llençar caixa deixar pilota']\n",
            "labels:  ['deixar caixa agafar pilota', 'llençar pilota deixar pilota', 'deixar caixa', 'llençar caixa llençar pilota', 'llençar caixa deixar pilota', 'deixar pilota', 'llençar caixa agafar pilota', 'deixar pilota llençar caixa', 'llençar caixa agafar pilota', 'llençar pilota agafar caixa', 'deixar caixa agafar caixa', 'llençar pilota agafar caixa', 'llençar pilota llençar caixa', 'deixar pilota', 'deixar caixa agafar caixa', 'agafar caixa deixar pilota', 'agafar caixa', 'llençar caixa agafar pilota', 'llençar caixa agafar pilota', 'agafar caixa llençar pilota', 'deixar pilota agafar caixa', 'deixar caixa agafar pilota', 'agafar pilota llençar caixa', 'agafar pilota llençar pilota', 'agafar pilota agafar caixa', 'llençar caixa', 'llençar pilota deixar caixa', 'deixar pilota llençar caixa', 'deixar pilota', 'agafar pilota deixar pilota', 'agafar caixa', 'agafar pilota llençar pilota', 'llençar caixa agafar pilota', 'deixar caixa agafar pilota', 'deixar caixa llençar pilota', 'llençar pilota deixar pilota', 'llençar pilota deixar pilota', 'agafar caixa deixar pilota', 'deixar caixa llençar caixa', 'deixar pilota llençar caixa', 'agafar pilota agafar caixa', 'llençar caixa agafar pilota', 'agafar pilota deixar caixa', 'deixar caixa agafar pilota', 'llençar pilota llençar caixa', 'agafar pilota deixar caixa', 'deixar caixa agafar pilota', 'deixar caixa llençar caixa', 'agafar caixa llençar caixa', 'llençar caixa', 'llençar pilota agafar pilota', 'llençar pilota llençar caixa', 'deixar caixa agafar pilota', 'agafar caixa agafar pilota', 'deixar caixa', 'llençar pilota deixar caixa', 'llençar caixa deixar caixa', 'llençar caixa llençar pilota', 'llençar pilota deixar caixa', 'llençar pilota deixar caixa', 'deixar caixa llençar caixa', 'agafar pilota', 'llençar pilota agafar caixa', 'llençar caixa', 'agafar caixa deixar pilota', 'agafar pilota llençar caixa', 'agafar pilota deixar caixa', 'deixar pilota', 'deixar caixa llençar pilota', 'llençar caixa deixar pilota', 'agafar pilota llençar caixa', 'llençar caixa', 'llençar pilota deixar caixa', 'agafar pilota deixar caixa', 'agafar caixa llençar caixa', 'deixar pilota llençar caixa', 'deixar pilota llençar caixa', 'deixar pilota agafar pilota', 'deixar caixa agafar caixa', 'agafar caixa llençar pilota', 'agafar pilota llençar caixa', 'deixar pilota agafar pilota', 'agafar caixa llençar pilota', 'deixar caixa agafar pilota', 'deixar pilota agafar caixa', 'llençar pilota deixar caixa', 'agafar caixa deixar pilota', 'deixar pilota llençar caixa', 'agafar pilota agafar caixa', 'deixar pilota agafar caixa', 'llençar caixa', 'deixar caixa llençar caixa', 'agafar caixa llençar pilota', 'deixar caixa agafar caixa', 'deixar pilota', 'agafar pilota', 'agafar pilota', 'deixar caixa agafar caixa', 'llençar pilota llençar caixa', 'llençar caixa deixar pilota']\n",
            "wer in %:  0.0\n",
            "predicted:  ['deixar caixa agafar pilota', 'llençar pilota deixar pilota', 'deixar caixa', 'llençar caixa llençar pilota', 'llençar caixa deixar pilota', 'deixar pilota', 'llençar caixa agafar pilota', 'deixar pilota llençar caixa', 'llençar caixa agafar pilota', 'llençar pilota agafar caixa', 'deixar caixa agafar caixa', 'llençar pilota agafar caixa', 'llençar pilota llençar caixa', 'deixar pilota', 'deixar caixa agafar caixa', 'agafar caixa deixar pilota', 'agafar caixa', 'llençar caixa agafar pilota', 'llençar caixa agafar pilota', 'agafar caixa llençar pilota', 'deixar pilota agafar caixa', 'deixar caixa agafar pilota', 'agafar pilota llençar caixa', 'agafar pilota llençar pilota', 'agafar pilota agafar caixa', 'llençar caixa', 'llençar pilota deixar caixa', 'deixar pilota llençar caixa', 'deixar pilota', 'agafar pilota deixar pilota', 'agafar caixa', 'agafar pilota llençar pilota', 'llençar caixa agafar pilota', 'deixar caixa agafar pilota', 'deixar caixa llençar pilota', 'llençar pilota deixar pilota', 'llençar pilota deixar pilota', 'agafar caixa deixar pilota', 'deixar caixa llençar caixa', 'deixar pilota llençar caixa', 'agafar pilota agafar caixa', 'llençar caixa agafar pilota', 'agafar pilota deixar caixa', 'deixar caixa agafar pilota', 'llençar pilota llençar caixa', 'agafar pilota deixar caixa', 'deixar caixa agafar pilota', 'deixar caixa llençar caixa', 'agafar caixa llençar caixa', 'llençar caixa', 'llençar pilota agafar pilota', 'llençar pilota llençar caixa', 'deixar caixa agafar pilota', 'agafar caixa agafar pilota', 'deixar caixa', 'llençar pilota deixar caixa', 'llençar caixa deixar caixa', 'llençar caixa llençar pilota', 'llençar pilota deixar caixa', 'llençar pilota deixar caixa', 'deixar caixa llençar caixa', 'agafar pilota', 'llençar pilota agafar caixa', 'llençar caixa', 'agafar caixa deixar pilota', 'agafar pilota llençar caixa', 'agafar pilota deixar caixa', 'deixar pilota', 'deixar caixa llençar pilota', 'llençar caixa deixar pilota', 'agafar pilota llençar caixa', 'llençar caixa', 'llençar pilota deixar caixa', 'agafar pilota deixar caixa', 'agafar caixa llençar caixa', 'deixar pilota llençar caixa', 'deixar pilota llençar caixa', 'deixar pilota agafar pilota', 'deixar caixa agafar caixa', 'agafar caixa llençar pilota', 'agafar pilota llençar caixa', 'deixar pilota agafar pilota', 'agafar caixa llençar pilota', 'deixar caixa agafar pilota', 'deixar pilota agafar caixa', 'llençar pilota deixar caixa', 'agafar caixa deixar pilota', 'deixar pilota llençar caixa', 'agafar pilota agafar caixa', 'deixar pilota agafar caixa', 'llençar caixa', 'deixar caixa llençar caixa', 'agafar caixa llençar pilota', 'deixar caixa agafar caixa', 'deixar pilota', 'agafar pilota', 'agafar pilota', 'deixar caixa agafar caixa', 'llençar pilota llençar caixa', 'llençar caixa deixar pilota']\n",
            "labels:  ['deixar caixa agafar pilota', 'llençar pilota deixar pilota', 'deixar caixa', 'llençar caixa llençar pilota', 'llençar caixa deixar pilota', 'deixar pilota', 'llençar caixa agafar pilota', 'deixar pilota llençar caixa', 'llençar caixa agafar pilota', 'llençar pilota agafar caixa', 'deixar caixa agafar caixa', 'llençar pilota agafar caixa', 'llençar pilota llençar caixa', 'deixar pilota', 'deixar caixa agafar caixa', 'agafar caixa deixar pilota', 'agafar caixa', 'llençar caixa agafar pilota', 'llençar caixa agafar pilota', 'agafar caixa llençar pilota', 'deixar pilota agafar caixa', 'deixar caixa agafar pilota', 'agafar pilota llençar caixa', 'agafar pilota llençar pilota', 'agafar pilota agafar caixa', 'llençar caixa', 'llençar pilota deixar caixa', 'deixar pilota llençar caixa', 'deixar pilota', 'agafar pilota deixar pilota', 'agafar caixa', 'agafar pilota llençar pilota', 'llençar caixa agafar pilota', 'deixar caixa agafar pilota', 'deixar caixa llençar pilota', 'llençar pilota deixar pilota', 'llençar pilota deixar pilota', 'agafar caixa deixar pilota', 'deixar caixa llençar caixa', 'deixar pilota llençar caixa', 'agafar pilota agafar caixa', 'llençar caixa agafar pilota', 'agafar pilota deixar caixa', 'deixar caixa agafar pilota', 'llençar pilota llençar caixa', 'agafar pilota deixar caixa', 'deixar caixa agafar pilota', 'deixar caixa llençar caixa', 'agafar caixa llençar caixa', 'llençar caixa', 'llençar pilota agafar pilota', 'llençar pilota llençar caixa', 'deixar caixa agafar pilota', 'agafar caixa agafar pilota', 'deixar caixa', 'llençar pilota deixar caixa', 'llençar caixa deixar caixa', 'llençar caixa llençar pilota', 'llençar pilota deixar caixa', 'llençar pilota deixar caixa', 'deixar caixa llençar caixa', 'agafar pilota', 'llençar pilota agafar caixa', 'llençar caixa', 'agafar caixa deixar pilota', 'agafar pilota llençar caixa', 'agafar pilota deixar caixa', 'deixar pilota', 'deixar caixa llençar pilota', 'llençar caixa deixar pilota', 'agafar pilota llençar caixa', 'llençar caixa', 'llençar pilota deixar caixa', 'agafar pilota deixar caixa', 'agafar caixa llençar caixa', 'deixar pilota llençar caixa', 'deixar pilota llençar caixa', 'deixar pilota agafar pilota', 'deixar caixa agafar caixa', 'agafar caixa llençar pilota', 'agafar pilota llençar caixa', 'deixar pilota agafar pilota', 'agafar caixa llençar pilota', 'deixar caixa agafar pilota', 'deixar pilota agafar caixa', 'llençar pilota deixar caixa', 'agafar caixa deixar pilota', 'deixar pilota llençar caixa', 'agafar pilota agafar caixa', 'deixar pilota agafar caixa', 'llençar caixa', 'deixar caixa llençar caixa', 'agafar caixa llençar pilota', 'deixar caixa agafar caixa', 'deixar pilota', 'agafar pilota', 'agafar pilota', 'deixar caixa agafar caixa', 'llençar pilota llençar caixa', 'llençar caixa deixar pilota']\n",
            "wer in %:  0.0\n",
            "entrenamiento completado\n"
          ]
        }
      ],
      "source": [
        "trainer.train()\n",
        "print(\"entrenamiento completado\")"
      ]
    },
    {
      "cell_type": "markdown",
      "metadata": {},
      "source": [
        "### Saving model locally"
      ]
    },
    {
      "cell_type": "code",
      "execution_count": 12,
      "metadata": {},
      "outputs": [
        {
          "name": "stdout",
          "output_type": "stream",
          "text": [
            "<bound method Module.state_dict of WhisperForConditionalGeneration(\n",
            "  (model): WhisperModel(\n",
            "    (encoder): WhisperEncoder(\n",
            "      (conv1): Conv1d(80, 768, kernel_size=(3,), stride=(1,), padding=(1,))\n",
            "      (conv2): Conv1d(768, 768, kernel_size=(3,), stride=(2,), padding=(1,))\n",
            "      (embed_positions): Embedding(1500, 768)\n",
            "      (layers): ModuleList(\n",
            "        (0-11): 12 x WhisperEncoderLayer(\n",
            "          (self_attn): WhisperSdpaAttention(\n",
            "            (k_proj): Linear(in_features=768, out_features=768, bias=False)\n",
            "            (v_proj): Linear(in_features=768, out_features=768, bias=True)\n",
            "            (q_proj): Linear(in_features=768, out_features=768, bias=True)\n",
            "            (out_proj): Linear(in_features=768, out_features=768, bias=True)\n",
            "          )\n",
            "          (self_attn_layer_norm): LayerNorm((768,), eps=1e-05, elementwise_affine=True)\n",
            "          (activation_fn): GELUActivation()\n",
            "          (fc1): Linear(in_features=768, out_features=3072, bias=True)\n",
            "          (fc2): Linear(in_features=3072, out_features=768, bias=True)\n",
            "          (final_layer_norm): LayerNorm((768,), eps=1e-05, elementwise_affine=True)\n",
            "        )\n",
            "      )\n",
            "      (layer_norm): LayerNorm((768,), eps=1e-05, elementwise_affine=True)\n",
            "    )\n",
            "    (decoder): WhisperDecoder(\n",
            "      (embed_tokens): Embedding(11, 768)\n",
            "      (embed_positions): WhisperPositionalEmbedding(448, 768)\n",
            "      (layers): ModuleList(\n",
            "        (0-11): 12 x WhisperDecoderLayer(\n",
            "          (self_attn): WhisperSdpaAttention(\n",
            "            (k_proj): Linear(in_features=768, out_features=768, bias=False)\n",
            "            (v_proj): Linear(in_features=768, out_features=768, bias=True)\n",
            "            (q_proj): Linear(in_features=768, out_features=768, bias=True)\n",
            "            (out_proj): Linear(in_features=768, out_features=768, bias=True)\n",
            "          )\n",
            "          (activation_fn): GELUActivation()\n",
            "          (self_attn_layer_norm): LayerNorm((768,), eps=1e-05, elementwise_affine=True)\n",
            "          (encoder_attn): WhisperSdpaAttention(\n",
            "            (k_proj): Linear(in_features=768, out_features=768, bias=False)\n",
            "            (v_proj): Linear(in_features=768, out_features=768, bias=True)\n",
            "            (q_proj): Linear(in_features=768, out_features=768, bias=True)\n",
            "            (out_proj): Linear(in_features=768, out_features=768, bias=True)\n",
            "          )\n",
            "          (encoder_attn_layer_norm): LayerNorm((768,), eps=1e-05, elementwise_affine=True)\n",
            "          (fc1): Linear(in_features=768, out_features=3072, bias=True)\n",
            "          (fc2): Linear(in_features=3072, out_features=768, bias=True)\n",
            "          (final_layer_norm): LayerNorm((768,), eps=1e-05, elementwise_affine=True)\n",
            "        )\n",
            "      )\n",
            "      (layer_norm): LayerNorm((768,), eps=1e-05, elementwise_affine=True)\n",
            "    )\n",
            "  )\n",
            "  (proj_out): Linear(in_features=768, out_features=11, bias=False)\n",
            ")>\n",
            "modelo guardado en whisper-small-ca/model-small-ca.bin\n"
          ]
        }
      ],
      "source": [
        "print(model.state_dict)\n",
        "path = \"whisper-small-ca/model-small-ca.bin\"\n",
        "torch.save(model.state_dict(), path)\n",
        "print(f\"modelo guardado en {path}\")"
      ]
    }
  ],
  "metadata": {
    "kernelspec": {
      "display_name": ".venv",
      "language": "python",
      "name": "python3"
    },
    "language_info": {
      "codemirror_mode": {
        "name": "ipython",
        "version": 3
      },
      "file_extension": ".py",
      "mimetype": "text/x-python",
      "name": "python",
      "nbconvert_exporter": "python",
      "pygments_lexer": "ipython3",
      "version": "3.12.3"
    }
  },
  "nbformat": 4,
  "nbformat_minor": 2
}
