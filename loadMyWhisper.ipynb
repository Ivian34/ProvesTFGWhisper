{
 "cells": [
  {
   "cell_type": "markdown",
   "metadata": {},
   "source": [
    "# Code Loading my pretrained model and doing inference"
   ]
  },
  {
   "cell_type": "code",
   "execution_count": 1,
   "metadata": {},
   "outputs": [],
   "source": [
    "from src.utils import *\n",
    "import torch\n",
    "from datasets import load_from_disk\n",
    "from transformers import WhisperProcessor, Seq2SeqTrainer, Seq2SeqTrainingArguments\n",
    "import numpy as np\n",
    "from functools import partial\n",
    "import evaluate"
   ]
  },
  {
   "cell_type": "markdown",
   "metadata": {},
   "source": [
    "### Tokenizer"
   ]
  },
  {
   "cell_type": "code",
   "execution_count": 2,
   "metadata": {},
   "outputs": [
    {
     "name": "stdout",
     "output_type": "stream",
     "text": [
      "{'agafar': 0, 'llençar': 1, 'deixar': 2, 'caixa': 3, 'pilota': 4, '<|startoftranscript|>': 5, '<|endoftext|>': 6, '<|transcribe|>': 7, '<|ca|>': 8, '<|notimestamps|>': 9, '<|startofprev|>': 10}\n"
     ]
    }
   ],
   "source": [
    "configs_path = \"config-data\"\n",
    "vocab_path = f\"{configs_path}/ca-vocab.json\"\n",
    "myTokenizer = MyCustomTokenizer(vocab_file = vocab_path, special_tokens_on_vocab_file=False)\n",
    "print(myTokenizer.vocab)\n"
   ]
  },
  {
   "cell_type": "markdown",
   "metadata": {},
   "source": [
    "### Loading my pretrained model "
   ]
  },
  {
   "cell_type": "code",
   "execution_count": 3,
   "metadata": {},
   "outputs": [
    {
     "name": "stdout",
     "output_type": "stream",
     "text": [
      "embeding tokens layer and projection layer share the same weights: True\n",
      "shape of embedding tokens layer:  torch.Size([11, 768])\n",
      "changing model's config vocab_size: 11\n"
     ]
    },
    {
     "data": {
      "text/plain": [
       "<All keys matched successfully>"
      ]
     },
     "execution_count": 3,
     "metadata": {},
     "output_type": "execute_result"
    }
   ],
   "source": [
    "\n",
    "model = create_my_whisper_model(myTokenizer=myTokenizer)\n",
    "\n",
    "model.load_state_dict(torch.load(\"whisper-small-ca/model-small-ca.bin\", weights_only=True))\n"
   ]
  },
  {
   "cell_type": "code",
   "execution_count": 4,
   "metadata": {},
   "outputs": [
    {
     "name": "stdout",
     "output_type": "stream",
     "text": [
      "DatasetDict({\n",
      "    train: Dataset({\n",
      "        features: ['audio_sentence', 'audio_rate', 'text_sentence', 'tags'],\n",
      "        num_rows: 900\n",
      "    })\n",
      "    test: Dataset({\n",
      "        features: ['audio_sentence', 'audio_rate', 'text_sentence', 'tags'],\n",
      "        num_rows: 100\n",
      "    })\n",
      "})\n",
      "deixar,caixa,deixar,pilota\n"
     ]
    }
   ],
   "source": [
    "dataset_dict = load_from_disk(\"Audios/dataset1\")\n",
    "print(dataset_dict)\n",
    "print(dataset_dict[\"train\"][0][\"tags\"])"
   ]
  },
  {
   "cell_type": "code",
   "execution_count": 5,
   "metadata": {},
   "outputs": [],
   "source": [
    "model_id = \"openai/whisper-small\"\n",
    "language = \"ca\"\n",
    "task = \"transcribe\"\n",
    "\n",
    "processor = WhisperProcessor.from_pretrained(model_id, language=language, task=task)\n",
    "\n",
    "prepare_dataset_fn = partial(prepare_dataset, feature_extractor=processor.feature_extractor, myTokenizer=myTokenizer)\n",
    "\n",
    "dataset_dict_prepared = dataset_dict.map(prepare_dataset_fn, remove_columns=dataset_dict.column_names[\"train\"], num_proc=4)\n",
    "\n",
    "dataset_dict_prepared = dataset_dict_prepared[\"test\"]"
   ]
  },
  {
   "cell_type": "code",
   "execution_count": 6,
   "metadata": {},
   "outputs": [
    {
     "name": "stdout",
     "output_type": "stream",
     "text": [
      "Dataset({\n",
      "    features: ['input_features', 'labels'],\n",
      "    num_rows: 100\n",
      "})\n",
      "[5, 8, 7, 9, 2, 3, 0, 4, 6]\n",
      "(80, 3000)\n",
      "<|startoftranscript|> <|ca|> <|transcribe|> <|notimestamps|> deixar caixa agafar pilota <|endoftext|>\n",
      "deixar caixa agafar pilota\n"
     ]
    }
   ],
   "source": [
    "\n",
    "print(dataset_dict_prepared)\n",
    "print(dataset_dict_prepared[0][\"labels\"])\n",
    "print(np.array(dataset_dict_prepared[0][\"input_features\"]).shape)\n",
    "print(myTokenizer.decode(dataset_dict_prepared[0][\"labels\"]))\n",
    "print(myTokenizer.decode(dataset_dict_prepared[0][\"labels\"], skip_special_tokens=True))\n"
   ]
  },
  {
   "cell_type": "code",
   "execution_count": 7,
   "metadata": {},
   "outputs": [
    {
     "name": "stderr",
     "output_type": "stream",
     "text": [
      "Passing a tuple of `past_key_values` is deprecated and will be removed in Transformers v4.43.0. You should pass an instance of `EncoderDecoderCache` instead, e.g. `past_key_values=EncoderDecoderCache.from_legacy_cache(past_key_values)`.\n"
     ]
    },
    {
     "data": {
      "text/html": [],
      "text/plain": [
       "<IPython.core.display.HTML object>"
      ]
     },
     "metadata": {},
     "output_type": "display_data"
    }
   ],
   "source": [
    "compute_metrics_fn = partial(compute_metrics, model=model, myTokenizer=myTokenizer)\n",
    "\n",
    "data_collator = MyDataCollator(\n",
    "    feature_extractor=processor.feature_extractor, \n",
    "    tokenizer=myTokenizer)\n",
    "\n",
    "\n",
    "training_args = Seq2SeqTrainingArguments(\n",
    "    output_dir=\"temp_dir\",         \n",
    "    do_train=False,                \n",
    "    do_eval=False,                 \n",
    "    per_device_eval_batch_size=16, \n",
    "    predict_with_generate=False,   # cuidado porque si esto esta a false compute_metrics_fn, falla porque le llegan logits no tokens generados\n",
    "    save_strategy=\"no\",            \n",
    "    logging_strategy=\"no\",  \n",
    "    fp16=True,        \n",
    ")\n",
    "\n",
    "trainer = Seq2SeqTrainer(\n",
    "    model=model,\n",
    "    args=training_args,\n",
    "    data_collator=data_collator,\n",
    ")\n",
    "\n",
    "# Generamos predicciones y recogemos los logits\n",
    "pred_output = trainer.predict(dataset_dict_prepared) #como muestra de inferencia solo 2 ejemplos\n",
    "\n"
   ]
  },
  {
   "cell_type": "code",
   "execution_count": 8,
   "metadata": {},
   "outputs": [
    {
     "name": "stdout",
     "output_type": "stream",
     "text": [
      "Decoded sequence: deixar caixa agafar pilota\n",
      "Labels Decoded sequence: deixar caixa agafar pilota\n",
      "Decoded sequence: llençar pilota deixar pilota\n",
      "Labels Decoded sequence: llençar pilota deixar pilota\n",
      "Decoded sequence: deixar caixa\n",
      "Labels Decoded sequence: deixar caixa\n",
      "Decoded sequence: llençar caixa llençar pilota\n",
      "Labels Decoded sequence: llençar caixa llençar pilota\n",
      "Decoded sequence: llençar caixa deixar pilota\n",
      "Labels Decoded sequence: llençar caixa deixar pilota\n",
      "Decoded sequence: deixar pilota\n",
      "Labels Decoded sequence: deixar pilota\n",
      "Decoded sequence: llençar caixa agafar pilota\n",
      "Labels Decoded sequence: llençar caixa agafar pilota\n",
      "Decoded sequence: deixar pilota llençar caixa\n",
      "Labels Decoded sequence: deixar pilota llençar caixa\n",
      "Decoded sequence: llençar caixa agafar pilota\n",
      "Labels Decoded sequence: llençar caixa agafar pilota\n",
      "Decoded sequence: llençar pilota agafar caixa\n",
      "Labels Decoded sequence: llençar pilota agafar caixa\n",
      "Decoded sequence: deixar caixa agafar caixa\n",
      "Labels Decoded sequence: deixar caixa agafar caixa\n",
      "Decoded sequence: llençar pilota agafar caixa\n",
      "Labels Decoded sequence: llençar pilota agafar caixa\n",
      "Decoded sequence: llençar pilota llençar caixa\n",
      "Labels Decoded sequence: llençar pilota llençar caixa\n",
      "Decoded sequence: deixar pilota\n",
      "Labels Decoded sequence: deixar pilota\n",
      "Decoded sequence: deixar caixa agafar caixa\n",
      "Labels Decoded sequence: deixar caixa agafar caixa\n",
      "Decoded sequence: agafar caixa deixar pilota\n",
      "Labels Decoded sequence: agafar caixa deixar pilota\n",
      "Decoded sequence: agafar caixa\n",
      "Labels Decoded sequence: agafar caixa\n",
      "Decoded sequence: llençar caixa agafar pilota\n",
      "Labels Decoded sequence: llençar caixa agafar pilota\n",
      "Decoded sequence: llençar caixa agafar pilota\n",
      "Labels Decoded sequence: llençar caixa agafar pilota\n",
      "Decoded sequence: agafar caixa llençar pilota\n",
      "Labels Decoded sequence: agafar caixa llençar pilota\n",
      "Decoded sequence: deixar pilota agafar caixa\n",
      "Labels Decoded sequence: deixar pilota agafar caixa\n",
      "Decoded sequence: deixar caixa agafar pilota\n",
      "Labels Decoded sequence: deixar caixa agafar pilota\n",
      "Decoded sequence: agafar pilota llençar caixa\n",
      "Labels Decoded sequence: agafar pilota llençar caixa\n",
      "Decoded sequence: agafar pilota llençar pilota\n",
      "Labels Decoded sequence: agafar pilota llençar pilota\n",
      "Decoded sequence: agafar pilota agafar caixa\n",
      "Labels Decoded sequence: agafar pilota agafar caixa\n",
      "Decoded sequence: llençar caixa\n",
      "Labels Decoded sequence: llençar caixa\n",
      "Decoded sequence: llençar pilota deixar caixa\n",
      "Labels Decoded sequence: llençar pilota deixar caixa\n",
      "Decoded sequence: deixar pilota llençar caixa\n",
      "Labels Decoded sequence: deixar pilota llençar caixa\n",
      "Decoded sequence: deixar pilota\n",
      "Labels Decoded sequence: deixar pilota\n",
      "Decoded sequence: agafar pilota deixar pilota\n",
      "Labels Decoded sequence: agafar pilota deixar pilota\n",
      "Decoded sequence: agafar caixa\n",
      "Labels Decoded sequence: agafar caixa\n",
      "Decoded sequence: agafar pilota llençar pilota\n",
      "Labels Decoded sequence: agafar pilota llençar pilota\n",
      "Decoded sequence: llençar caixa agafar pilota\n",
      "Labels Decoded sequence: llençar caixa agafar pilota\n",
      "Decoded sequence: deixar caixa agafar pilota\n",
      "Labels Decoded sequence: deixar caixa agafar pilota\n",
      "Decoded sequence: deixar caixa llençar pilota\n",
      "Labels Decoded sequence: deixar caixa llençar pilota\n",
      "Decoded sequence: llençar pilota deixar pilota\n",
      "Labels Decoded sequence: llençar pilota deixar pilota\n",
      "Decoded sequence: llençar pilota deixar pilota\n",
      "Labels Decoded sequence: llençar pilota deixar pilota\n",
      "Decoded sequence: agafar caixa deixar pilota\n",
      "Labels Decoded sequence: agafar caixa deixar pilota\n",
      "Decoded sequence: deixar caixa llençar caixa\n",
      "Labels Decoded sequence: deixar caixa llençar caixa\n",
      "Decoded sequence: deixar pilota llençar caixa\n",
      "Labels Decoded sequence: deixar pilota llençar caixa\n",
      "Decoded sequence: agafar pilota agafar caixa\n",
      "Labels Decoded sequence: agafar pilota agafar caixa\n",
      "Decoded sequence: llençar caixa agafar pilota\n",
      "Labels Decoded sequence: llençar caixa agafar pilota\n",
      "Decoded sequence: agafar pilota deixar caixa\n",
      "Labels Decoded sequence: agafar pilota deixar caixa\n",
      "Decoded sequence: deixar caixa agafar pilota\n",
      "Labels Decoded sequence: deixar caixa agafar pilota\n",
      "Decoded sequence: llençar pilota llençar caixa\n",
      "Labels Decoded sequence: llençar pilota llençar caixa\n",
      "Decoded sequence: agafar pilota deixar caixa\n",
      "Labels Decoded sequence: agafar pilota deixar caixa\n",
      "Decoded sequence: deixar caixa agafar pilota\n",
      "Labels Decoded sequence: deixar caixa agafar pilota\n",
      "Decoded sequence: deixar caixa llençar caixa\n",
      "Labels Decoded sequence: deixar caixa llençar caixa\n",
      "Decoded sequence: agafar caixa llençar caixa\n",
      "Labels Decoded sequence: agafar caixa llençar caixa\n",
      "Decoded sequence: llençar caixa\n",
      "Labels Decoded sequence: llençar caixa\n",
      "Decoded sequence: llençar pilota agafar pilota\n",
      "Labels Decoded sequence: llençar pilota agafar pilota\n",
      "Decoded sequence: llençar pilota llençar caixa\n",
      "Labels Decoded sequence: llençar pilota llençar caixa\n",
      "Decoded sequence: deixar caixa agafar pilota\n",
      "Labels Decoded sequence: deixar caixa agafar pilota\n",
      "Decoded sequence: agafar caixa agafar pilota\n",
      "Labels Decoded sequence: agafar caixa agafar pilota\n",
      "Decoded sequence: deixar caixa\n",
      "Labels Decoded sequence: deixar caixa\n",
      "Decoded sequence: llençar pilota deixar caixa\n",
      "Labels Decoded sequence: llençar pilota deixar caixa\n",
      "Decoded sequence: llençar caixa deixar caixa\n",
      "Labels Decoded sequence: llençar caixa deixar caixa\n",
      "Decoded sequence: llençar caixa llençar pilota\n",
      "Labels Decoded sequence: llençar caixa llençar pilota\n",
      "Decoded sequence: llençar pilota deixar caixa\n",
      "Labels Decoded sequence: llençar pilota deixar caixa\n",
      "Decoded sequence: llençar pilota deixar caixa\n",
      "Labels Decoded sequence: llençar pilota deixar caixa\n",
      "Decoded sequence: deixar caixa llençar caixa\n",
      "Labels Decoded sequence: deixar caixa llençar caixa\n",
      "Decoded sequence: agafar pilota\n",
      "Labels Decoded sequence: agafar pilota\n",
      "Decoded sequence: llençar pilota agafar caixa\n",
      "Labels Decoded sequence: llençar pilota agafar caixa\n",
      "Decoded sequence: llençar caixa\n",
      "Labels Decoded sequence: llençar caixa\n",
      "Decoded sequence: agafar caixa deixar pilota\n",
      "Labels Decoded sequence: agafar caixa deixar pilota\n",
      "Decoded sequence: agafar pilota llençar caixa\n",
      "Labels Decoded sequence: agafar pilota llençar caixa\n",
      "Decoded sequence: agafar pilota deixar caixa\n",
      "Labels Decoded sequence: agafar pilota deixar caixa\n",
      "Decoded sequence: deixar pilota\n",
      "Labels Decoded sequence: deixar pilota\n",
      "Decoded sequence: deixar caixa llençar pilota\n",
      "Labels Decoded sequence: deixar caixa llençar pilota\n",
      "Decoded sequence: llençar caixa deixar pilota\n",
      "Labels Decoded sequence: llençar caixa deixar pilota\n",
      "Decoded sequence: agafar pilota llençar caixa\n",
      "Labels Decoded sequence: agafar pilota llençar caixa\n",
      "Decoded sequence: llençar caixa\n",
      "Labels Decoded sequence: llençar caixa\n",
      "Decoded sequence: llençar pilota deixar caixa\n",
      "Labels Decoded sequence: llençar pilota deixar caixa\n",
      "Decoded sequence: agafar pilota deixar caixa\n",
      "Labels Decoded sequence: agafar pilota deixar caixa\n",
      "Decoded sequence: agafar caixa llençar caixa\n",
      "Labels Decoded sequence: agafar caixa llençar caixa\n",
      "Decoded sequence: deixar pilota llençar caixa\n",
      "Labels Decoded sequence: deixar pilota llençar caixa\n",
      "Decoded sequence: deixar pilota llençar caixa\n",
      "Labels Decoded sequence: deixar pilota llençar caixa\n",
      "Decoded sequence: deixar pilota agafar pilota\n",
      "Labels Decoded sequence: deixar pilota agafar pilota\n",
      "Decoded sequence: deixar caixa agafar caixa\n",
      "Labels Decoded sequence: deixar caixa agafar caixa\n",
      "Decoded sequence: agafar caixa llençar pilota\n",
      "Labels Decoded sequence: agafar caixa llençar pilota\n",
      "Decoded sequence: agafar pilota llençar caixa\n",
      "Labels Decoded sequence: agafar pilota llençar caixa\n",
      "Decoded sequence: deixar pilota agafar pilota\n",
      "Labels Decoded sequence: deixar pilota agafar pilota\n",
      "Decoded sequence: agafar caixa llençar pilota\n",
      "Labels Decoded sequence: agafar caixa llençar pilota\n",
      "Decoded sequence: deixar caixa agafar pilota\n",
      "Labels Decoded sequence: deixar caixa agafar pilota\n",
      "Decoded sequence: deixar pilota agafar caixa\n",
      "Labels Decoded sequence: deixar pilota agafar caixa\n",
      "Decoded sequence: llençar pilota deixar caixa\n",
      "Labels Decoded sequence: llençar pilota deixar caixa\n",
      "Decoded sequence: agafar caixa deixar pilota\n",
      "Labels Decoded sequence: agafar caixa deixar pilota\n",
      "Decoded sequence: deixar pilota llençar caixa\n",
      "Labels Decoded sequence: deixar pilota llençar caixa\n",
      "Decoded sequence: agafar pilota agafar caixa\n",
      "Labels Decoded sequence: agafar pilota agafar caixa\n",
      "Decoded sequence: deixar pilota agafar caixa\n",
      "Labels Decoded sequence: deixar pilota agafar caixa\n",
      "Decoded sequence: llençar caixa\n",
      "Labels Decoded sequence: llençar caixa\n",
      "Decoded sequence: deixar caixa llençar caixa\n",
      "Labels Decoded sequence: deixar caixa llençar caixa\n",
      "Decoded sequence: agafar caixa llençar pilota\n",
      "Labels Decoded sequence: agafar caixa llençar pilota\n",
      "Decoded sequence: deixar caixa agafar caixa\n",
      "Labels Decoded sequence: deixar caixa agafar caixa\n",
      "Decoded sequence: deixar pilota\n",
      "Labels Decoded sequence: deixar pilota\n",
      "Decoded sequence: agafar pilota\n",
      "Labels Decoded sequence: agafar pilota\n",
      "Decoded sequence: agafar pilota\n",
      "Labels Decoded sequence: agafar pilota\n",
      "Decoded sequence: deixar caixa agafar caixa\n",
      "Labels Decoded sequence: deixar caixa agafar caixa\n",
      "Decoded sequence: llençar pilota llençar caixa\n",
      "Labels Decoded sequence: llençar pilota llençar caixa\n",
      "Decoded sequence: llençar caixa deixar pilota\n",
      "Labels Decoded sequence: llençar caixa deixar pilota\n",
      "Word Error Rate (WER) in %: 0.0\n"
     ]
    }
   ],
   "source": [
    "# Pasamos los logits por la capa CRF y decodificamos\n",
    "\n",
    "emission_scores = pred_output.predictions[0]\n",
    "\n",
    "labels = pred_output.label_ids\n",
    "\n",
    "transitions_file = f\"{configs_path}/transitions_file.txt\"\n",
    "\n",
    "decoded_sequences_list = []\n",
    "decoded_labels_list = []\n",
    "\n",
    "log_transition_matrix = generate_transition_matrix(transitions_file=transitions_file, myTokenizer=myTokenizer)\n",
    "\n",
    "# De momento se hace por cada elemento del batch ¡¡¡(hay que hacerlo por batches; con un objeto dataloader talvez)\n",
    "for i, es in enumerate(emission_scores): \n",
    "    decoded_sequence = viterbi(log_transition=log_transition_matrix, myTokenizer=myTokenizer, emission_scores=es) #hay que mirarlo porque funciona mal\n",
    "    #decoded_sequence = decode_with_max(emission_scores=es, myTokenizer=myTokenizer)\n",
    "    print(\"Decoded sequence:\", decoded_sequence)\n",
    "\n",
    "    #replace -100 with the pad_token_id\n",
    "    labels[labels == -100] = model.config.pad_token_id\n",
    "    decoded_labels = myTokenizer.decode(labels[i], skip_special_tokens=True)\n",
    "    print(\"Labels Decoded sequence:\", decoded_labels)\n",
    "    \n",
    "    decoded_sequences_list.append(decoded_sequence)\n",
    "    decoded_labels_list.append(decoded_labels)\n",
    "    \n",
    "metric = evaluate.load(\"wer\")\n",
    "\n",
    "wer = 100 * metric.compute(predictions=decoded_sequences_list, references=decoded_labels_list)\n",
    "\n",
    "print(\"Word Error Rate (WER) in %:\", wer)"
   ]
  }
 ],
 "metadata": {
  "kernelspec": {
   "display_name": ".venv",
   "language": "python",
   "name": "python3"
  },
  "language_info": {
   "codemirror_mode": {
    "name": "ipython",
    "version": 3
   },
   "file_extension": ".py",
   "mimetype": "text/x-python",
   "name": "python",
   "nbconvert_exporter": "python",
   "pygments_lexer": "ipython3",
   "version": "3.12.3"
  }
 },
 "nbformat": 4,
 "nbformat_minor": 2
}
